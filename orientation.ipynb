{
 "cells": [
  {
   "cell_type": "markdown",
   "metadata": {},
   "source": [
    "# 3D Visualization of Binary Masks\n",
    "\n",
    "This notebook loads a reference segmentation mask and yours, applies required transformations same as what been used for data preprocessing, and creates a 3D visualization of the binary masks to check if the orientation of your segmentation mask/image is correct."
   ]
  },
  {
   "cell_type": "code",
   "execution_count": 14,
   "metadata": {},
   "outputs": [],
   "source": [
    "import nibabel as nib\n",
    "import numpy as np\n",
    "import plotly.graph_objects as go\n",
    "import plotly.io as pio\n",
    "from scipy import ndimage\n",
    "from monai.transforms import Compose, LoadImaged, Orientationd, Spacingd, CropForegroundd, SpatialPadd\n",
    "pio.renderers.default = 'iframe_connected'\n",
    "\n",
    "transforms = Compose([\n",
    "    LoadImaged([\"REF\", \"MOV\"], image_only=True, ensure_channel_first=True),\n",
    "    Orientationd([\"REF\", \"MOV\"], axcodes=\"RAS\"),\n",
    "    Spacingd([\"REF\", \"MOV\"], [2.0, 2.0, 2.0], mode=\"nearest\"),\n",
    "    CropForegroundd(\"REF\", source_key=\"REF\"),\n",
    "    CropForegroundd(\"MOV\", source_key=\"MOV\"),\n",
    "    SpatialPadd([\"REF\", \"MOV\"], (128, 128, 128), method=\"symmetric\", mode=\"minimum\")\n",
    "])"
   ]
  },
  {
   "cell_type": "markdown",
   "metadata": {},
   "source": [
    "### Load Masks"
   ]
  },
  {
   "cell_type": "code",
   "execution_count": 15,
   "metadata": {},
   "outputs": [],
   "source": [
    "# Load NIfTI files\n",
    "msk_ref = r'template/cap_ref.nii.gz'\n",
    "msk_mov = '/mnt/data/Experiment/Data/raw_data/datasets_abdul/private_dataset/nifiti_sax/SAX/predictions/1/1_frame0_0000_gt.nii.gz'\n",
    "\n",
    "# Get data from NIfTI files\n",
    "data = transforms({\"REF\": msk_ref, \"MOV\": msk_mov})\n",
    "data_ref = data[\"REF\"].get_array()[0]\n",
    "data_mov = data[\"MOV\"].get_array()[0]"
   ]
  },
  {
   "cell_type": "markdown",
   "metadata": {},
   "source": [
    "### Optional Code for RV-Myo Addition\n",
    "\n",
    "Use the code below only if your segmentation only have right ventricle cavity mask but no myocardium mask, and only if the index of your segmentation mask is arranged as: background -- 0, left ventricle cavity -- 1, left ventricle myocardium --2, right ventricle cavity -- 3, etc."
   ]
  },
  {
   "cell_type": "code",
   "execution_count": 16,
   "metadata": {},
   "outputs": [],
   "source": [
    "# Convert segmentation to binary mask (values 2 or 4)\n",
    "hold = np.isin(data_mov, [2])\n",
    "mask = np.isin(data_mov, [3])\n",
    "\n",
    "# Inflate mask_B by ~1.5 pixels in all directions\n",
    "kernel = np.ones((3, 3, 3))\n",
    "inflated_mask = ndimage.binary_dilation(mask, structure=kernel)\n",
    "\n",
    "# Ensure the inflated mask doesn't exceed the original volume size\n",
    "mask = inflated_mask[:mask.shape[0], :mask.shape[1], :mask.shape[2]]\n",
    "\n",
    "# Add right ventricular myocardium to the segmentation mask\n",
    "mask = mask ^ np.isin(data_mov, [3])\n",
    "data_mov[mask] = 4\n",
    "data_mov[hold] = 2"
   ]
  },
  {
   "cell_type": "markdown",
   "metadata": {},
   "source": [
    "### Create Plotly Visualisation"
   ]
  },
  {
   "cell_type": "code",
   "execution_count": 17,
   "metadata": {},
   "outputs": [],
   "source": [
    "# Convert segmentation to binary mask (values 2 or 4)\n",
    "mask_ref = np.isin(data_ref, [2, 4])\n",
    "mask_mov = np.isin(data_mov, [2, 4])\n",
    "\n",
    "# Get coordinates of non-zero voxels\n",
    "coords_ref = np.array(np.where(mask_ref)).T\n",
    "coords_mov = np.array(np.where(mask_mov)).T\n",
    "\n",
    "# Randomly select 5000 points for visualization\n",
    "np.random.shuffle(coords_ref)\n",
    "np.random.shuffle(coords_mov)\n",
    "coords_ref = coords_ref[:5000]\n",
    "coords_mov = coords_mov[:5000]"
   ]
  },
  {
   "cell_type": "code",
   "execution_count": 18,
   "metadata": {},
   "outputs": [
    {
     "data": {
      "text/html": [
       "<iframe\n",
       "    scrolling=\"no\"\n",
       "    width=\"100%\"\n",
       "    height=\"545px\"\n",
       "    src=\"iframe_figures/figure_18.html\"\n",
       "    frameborder=\"0\"\n",
       "    allowfullscreen\n",
       "></iframe>\n"
      ]
     },
     "metadata": {},
     "output_type": "display_data"
    }
   ],
   "source": [
    "# Create 3D scatter plots\n",
    "trace_ref = go.Scatter3d(\n",
    "    x=coords_ref[:, 1],\n",
    "    y=coords_ref[:, 0],\n",
    "    z=coords_ref[:, 2],\n",
    "    mode='markers',\n",
    "    marker=dict(size=2, color='red', opacity=0.8),\n",
    "    name='Mask REF'\n",
    ")\n",
    "\n",
    "trace_mov = go.Scatter3d(\n",
    "    x=coords_mov[:, 1],\n",
    "    y=coords_mov[:, 0],\n",
    "    z=coords_mov[:, 2],\n",
    "    mode='markers',\n",
    "    marker=dict(size=2, color='blue', opacity=0.8),\n",
    "    name='Mask MOV'\n",
    ")\n",
    "\n",
    "# Create the 3D plot\n",
    "fig = go.Figure(data=[trace_ref, trace_mov])\n",
    "\n",
    "# Update layout for better visualization\n",
    "fig.update_layout(\n",
    "    scene=dict(\n",
    "        xaxis_title='X',\n",
    "        yaxis_title='Y',\n",
    "        zaxis_title='Z',\n",
    "        aspectmode='data'\n",
    "    ),\n",
    "    title='3D Visualization of Binary Masks'\n",
    ")\n",
    "\n",
    "# Display the figure\n",
    "fig.show()\n",
    "\n",
    "# Save the figure as an HTML file\n",
    "fig.write_html(\"binary_masks_3d.html\")"
   ]
  }
 ],
 "metadata": {
  "kernelspec": {
   "display_name": "Python 3",
   "language": "python",
   "name": "python3"
  },
  "language_info": {
   "codemirror_mode": {
    "name": "ipython",
    "version": 3
   },
   "file_extension": ".py",
   "mimetype": "text/x-python",
   "name": "python",
   "nbconvert_exporter": "python",
   "pygments_lexer": "ipython3",
   "version": "3.9.17"
  }
 },
 "nbformat": 4,
 "nbformat_minor": 4
}

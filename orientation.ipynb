{
 "cells": [
  {
   "cell_type": "markdown",
   "metadata": {},
   "source": [
    "# 3D Visualization of Binary Masks\n",
    "\n",
    "This notebook loads two NIfTI files, applies some transformations, and creates a 3D visualization of the binary masks."
   ]
  },
  {
   "cell_type": "code",
   "execution_count": null,
   "metadata": {},
   "outputs": [],
   "source": [
    "import nibabel as nib\n",
    "import numpy as np\n",
    "import plotly.graph_objects as go\n",
    "from scipy import ndimage\n",
    "from monai.transforms import Compose, LoadImaged, Orientationd, Spacingd, CropForegroundd, SpatialPadd"
   ]
  },
  {
   "cell_type": "code",
   "execution_count": null,
   "metadata": {},
   "outputs": [],
   "source": [
    "transforms = Compose([\n",
    "    LoadImaged([\"A\", \"B\"], image_only=True, ensure_channel_first=True),\n",
    "    Orientationd([\"A\", \"B\"], axcodes=\"RAS\"),\n",
    "    Spacingd([\"A\", \"B\"], [2.0, 2.0, 2.0], mode=\"nearest\"),\n",
    "    CropForegroundd(\"A\", source_key=\"A\"),\n",
    "    CropForegroundd(\"B\", source_key=\"B\"),\n",
    "    SpatialPadd([\"A\", \"B\"], (128, 128, 128), method=\"symmetric\", mode=\"minimum\")\n",
    "])"
   ]
  },
  {
   "cell_type": "code",
   "execution_count": null,
   "metadata": {},
   "outputs": [],
   "source": [
    "# Load NIfTI files\n",
    "img_A = '/mnt/data/Experiment/nnUNet/nnUNet_raw/Dataset020_SCOTHEART/labelsTr/110021_CE-ED.nii.gz'\n",
    "img_B = '/mnt/data/Experiment/nnUNet/nnUNet_raw/Dataset021_ACDC/labelsTs/patient002_frame01.nii.gz'\n",
    "\n",
    "# Get data from NIfTI files\n",
    "data = transforms({\"A\": img_A, \"B\": img_B})\n",
    "data_A = data[\"A\"].get_array()[0]\n",
    "data_B = data[\"B\"].get_array()[0]"
   ]
  },
  {
   "cell_type": "code",
   "execution_count": null,
   "metadata": {},
   "outputs": [],
   "source": [
    "# Convert segmentation to binary mask (values 2 or 4)\n",
    "mask_A = np.isin(data_A, [2, 4])\n",
    "mask_B = np.isin(data_B, [2, 4])\n",
    "\n",
    "# Get coordinates of non-zero voxels\n",
    "coords_A = np.array(np.where(mask_A)).T\n",
    "coords_B = np.array(np.where(mask_B)).T\n",
    "\n",
    "# Randomly select 5000 points for visualization\n",
    "np.random.shuffle(coords_A)\n",
    "np.random.shuffle(coords_B)\n",
    "coords_A = coords_A[:5000]\n",
    "coords_B = coords_B[:5000]"
   ]
  },
  {
   "cell_type": "code",
   "execution_count": null,
   "metadata": {},
   "outputs": [],
   "source": [
    "# Create 3D scatter plots\n",
    "trace_A = go.Scatter3d(\n",
    "    x=coords_A[:, 1],\n",
    "    y=coords_A[:, 0],\n",
    "    z=coords_A[:, 2],\n",
    "    mode='markers',\n",
    "    marker=dict(size=2, color='red', opacity=0.8),\n",
    "    name='Mask A'\n",
    ")\n",
    "\n",
    "trace_B = go.Scatter3d(\n",
    "    x=coords_B[:, 1],\n",
    "    y=coords_B[:, 0],\n",
    "    z=coords_B[:, 2],\n",
    "    mode='markers',\n",
    "    marker=dict(size=2, color='blue', opacity=0.8),\n",
    "    name='Mask B'\n",
    ")\n",
    "\n",
    "# Create the 3D plot\n",
    "fig = go.Figure(data=[trace_A, trace_B])\n",
    "\n",
    "# Update layout for better visualization\n",
    "fig.update_layout(\n",
    "    scene=dict(\n",
    "        xaxis_title='X',\n",
    "        yaxis_title='Y',\n",
    "        zaxis_title='Z',\n",
    "        aspectmode='data'\n",
    "    ),\n",
    "    width=800,\n",
    "    height=800,\n",
    "    title='3D Visualization of Binary Masks'\n",
    ")\n",
    "\n",
    "# Display the figure\n",
    "fig.show()\n",
    "\n",
    "# Save the figure as an HTML file\n",
    "fig.write_html(\"binary_masks_3d.html\")"
   ]
  }
 ],
 "metadata": {
  "kernelspec": {
   "display_name": "Python 3",
   "language": "python",
   "name": "python3"
  },
  "language_info": {
   "codemirror_mode": {
    "name": "ipython",
    "version": 3
   },
   "file_extension": ".py",
   "mimetype": "text/x-python",
   "name": "python",
   "nbconvert_exporter": "python",
   "pygments_lexer": "ipython3",
   "version": "3.8.0"
  }
 },
 "nbformat": 4,
 "nbformat_minor": 4
}